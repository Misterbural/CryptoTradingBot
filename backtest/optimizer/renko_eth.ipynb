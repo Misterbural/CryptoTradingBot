{
  "cells": [
    {
      "cell_type": "markdown",
      "metadata": {
        "id": "XwM1VV4d2V-R"
      },
      "source": [
        "<h1>Load yours data</h1>"
      ]
    },
    {
      "cell_type": "code",
      "execution_count": 3,
      "metadata": {
        "colab": {
          "base_uri": "https://localhost:8080/"
        },
        "id": "1F0pok5BmY3X",
        "outputId": "f53082da-8a1f-40b3-8689-44bd0f955b42"
      },
      "outputs": [
        {
          "name": "stdout",
          "output_type": "stream",
          "text": [
            "Successfully load 40803 candles for ETHUSDT\n",
            "Data loaded 100%\n"
          ]
        }
      ],
      "source": [
        "# -- Import --\n",
        "import pandas as pd\n",
        "import matplotlib.pyplot as plt\n",
        "import numpy as np\n",
        "from IPython.display import clear_output\n",
        "from math import *\n",
        "from mpl_toolkits.mplot3d import Axes3D\n",
        "from matplotlib import cm\n",
        "import sys\n",
        "import ccxt\n",
        "from datetime import datetime\n",
        "from datetime import timedelta\n",
        "from stocktrends import Renko\n",
        "sys.path.append( '../../utilities' )\n",
        "from data_engine import DataEngine\n",
        "\n",
        "# -- You can change the crypto pair ,the start date and the time interval below --\n",
        "pair = 'ETH/USDT'\n",
        "timeframe = '1h'\n",
        "startDate = '2017-01-01T00:00:00'\n",
        "\n",
        "dataEngine = DataEngine(session=ccxt.binance(), path_to_data='../database/')\n",
        "\n",
        "df = dataEngine.get_historical_from_db(pair, timeframe, startDate)\n",
        "df['date'] = df.index\n",
        "\n",
        "print(\"Data loaded 100%\")\n",
        "\n",
        "# Function to convert ohlc data into renko bricks. Pass dataframe name and brick size\n",
        "def df_to_renko(data, n):\n",
        "    data.reset_index(inplace=True)\n",
        "    data.columns = [i.lower() for i in data.columns]\n",
        "    df = Renko(data)\n",
        "    df.brick_size = n\n",
        "    renko_df = df.get_ohlc_data()\n",
        "    return renko_df"
      ]
    },
    {
      "cell_type": "markdown",
      "metadata": {},
      "source": [
        "<h2>Trix Parameters Optimizer</h2>"
      ]
    },
    {
      "cell_type": "code",
      "execution_count": 4,
      "metadata": {},
      "outputs": [
        {
          "name": "stdout",
          "output_type": "stream",
          "text": [
            "Loading... 1 / 10\n"
          ]
        },
        {
          "ename": "KeyboardInterrupt",
          "evalue": "",
          "output_type": "error",
          "traceback": [
            "\u001b[1;31m---------------------------------------------------------------------------\u001b[0m",
            "\u001b[1;31mKeyboardInterrupt\u001b[0m                         Traceback (most recent call last)",
            "\u001b[1;32mc:\\Users\\Eliott\\Documents\\CryptoTradingBot\\backtest\\optimizer\\renko_eth.ipynb Cell 4'\u001b[0m in \u001b[0;36m<cell line: 27>\u001b[1;34m()\u001b[0m\n\u001b[0;32m     <a href='vscode-notebook-cell:/c%3A/Users/Eliott/Documents/CryptoTradingBot/backtest/optimizer/renko_eth.ipynb#ch0000007?line=36'>37</a>\u001b[0m startRenko \u001b[39m=\u001b[39m datetime\u001b[39m.\u001b[39mstrptime(\u001b[39mstr\u001b[39m(index), \u001b[39m'\u001b[39m\u001b[39m%\u001b[39m\u001b[39mY-\u001b[39m\u001b[39m%\u001b[39m\u001b[39mm-\u001b[39m\u001b[39m%d\u001b[39;00m\u001b[39m \u001b[39m\u001b[39m%\u001b[39m\u001b[39mH:\u001b[39m\u001b[39m%\u001b[39m\u001b[39mM:\u001b[39m\u001b[39m%\u001b[39m\u001b[39mS\u001b[39m\u001b[39m'\u001b[39m) \u001b[39m-\u001b[39m timedelta(minutes\u001b[39m=\u001b[39m\u001b[39m21600\u001b[39m)\n\u001b[0;32m     <a href='vscode-notebook-cell:/c%3A/Users/Eliott/Documents/CryptoTradingBot/backtest/optimizer/renko_eth.ipynb#ch0000007?line=37'>38</a>\u001b[0m dfComputeRenko \u001b[39m=\u001b[39m df[startRenko:index]\n\u001b[1;32m---> <a href='vscode-notebook-cell:/c%3A/Users/Eliott/Documents/CryptoTradingBot/backtest/optimizer/renko_eth.ipynb#ch0000007?line=38'>39</a>\u001b[0m dfRenko \u001b[39m=\u001b[39m df_to_renko(dfComputeRenko, row[\u001b[39m'\u001b[39;49m\u001b[39mclose\u001b[39;49m\u001b[39m'\u001b[39;49m]\u001b[39m*\u001b[39;49mi\u001b[39m/\u001b[39;49m\u001b[39m100\u001b[39;49m)\n\u001b[0;32m     <a href='vscode-notebook-cell:/c%3A/Users/Eliott/Documents/CryptoTradingBot/backtest/optimizer/renko_eth.ipynb#ch0000007?line=39'>40</a>\u001b[0m lastRowRenko \u001b[39m=\u001b[39m dfRenko\u001b[39m.\u001b[39mtail(\u001b[39m1\u001b[39m)\u001b[39m.\u001b[39msqueeze()\n\u001b[0;32m     <a href='vscode-notebook-cell:/c%3A/Users/Eliott/Documents/CryptoTradingBot/backtest/optimizer/renko_eth.ipynb#ch0000007?line=41'>42</a>\u001b[0m \u001b[39m#BUY\u001b[39;00m\n",
            "\u001b[1;32mc:\\Users\\Eliott\\Documents\\CryptoTradingBot\\backtest\\optimizer\\renko_eth.ipynb Cell 2'\u001b[0m in \u001b[0;36mdf_to_renko\u001b[1;34m(data, n)\u001b[0m\n\u001b[0;32m     <a href='vscode-notebook-cell:/c%3A/Users/Eliott/Documents/CryptoTradingBot/backtest/optimizer/renko_eth.ipynb#ch0000001?line=32'>33</a>\u001b[0m df \u001b[39m=\u001b[39m Renko(data)\n\u001b[0;32m     <a href='vscode-notebook-cell:/c%3A/Users/Eliott/Documents/CryptoTradingBot/backtest/optimizer/renko_eth.ipynb#ch0000001?line=33'>34</a>\u001b[0m df\u001b[39m.\u001b[39mbrick_size \u001b[39m=\u001b[39m n\n\u001b[1;32m---> <a href='vscode-notebook-cell:/c%3A/Users/Eliott/Documents/CryptoTradingBot/backtest/optimizer/renko_eth.ipynb#ch0000001?line=34'>35</a>\u001b[0m renko_df \u001b[39m=\u001b[39m df\u001b[39m.\u001b[39;49mget_ohlc_data()\n\u001b[0;32m     <a href='vscode-notebook-cell:/c%3A/Users/Eliott/Documents/CryptoTradingBot/backtest/optimizer/renko_eth.ipynb#ch0000001?line=35'>36</a>\u001b[0m \u001b[39mreturn\u001b[39;00m renko_df\n",
            "File \u001b[1;32mC:\\Python310\\lib\\site-packages\\stocktrends\\indicators.py:37\u001b[0m, in \u001b[0;36mRenko.get_ohlc_data\u001b[1;34m(self)\u001b[0m\n\u001b[0;32m     <a href='file:///c%3A/Python310/lib/site-packages/stocktrends/indicators.py?line=34'>35</a>\u001b[0m \u001b[39mdef\u001b[39;00m \u001b[39mget_ohlc_data\u001b[39m(\u001b[39mself\u001b[39m):\n\u001b[0;32m     <a href='file:///c%3A/Python310/lib/site-packages/stocktrends/indicators.py?line=35'>36</a>\u001b[0m     \u001b[39mif\u001b[39;00m \u001b[39mself\u001b[39m\u001b[39m.\u001b[39mchart_type \u001b[39m==\u001b[39m \u001b[39mself\u001b[39m\u001b[39m.\u001b[39mPERIOD_CLOSE:\n\u001b[1;32m---> <a href='file:///c%3A/Python310/lib/site-packages/stocktrends/indicators.py?line=36'>37</a>\u001b[0m         \u001b[39mself\u001b[39;49m\u001b[39m.\u001b[39;49mperiod_close_bricks()\n\u001b[0;32m     <a href='file:///c%3A/Python310/lib/site-packages/stocktrends/indicators.py?line=37'>38</a>\u001b[0m     \u001b[39melse\u001b[39;00m:\n\u001b[0;32m     <a href='file:///c%3A/Python310/lib/site-packages/stocktrends/indicators.py?line=38'>39</a>\u001b[0m         \u001b[39mself\u001b[39m\u001b[39m.\u001b[39mprice_movement_bricks()\n",
            "File \u001b[1;32mC:\\Python310\\lib\\site-packages\\stocktrends\\indicators.py:105\u001b[0m, in \u001b[0;36mRenko.period_close_bricks\u001b[1;34m(self)\u001b[0m\n\u001b[0;32m    <a href='file:///c%3A/Python310/lib/site-packages/stocktrends/indicators.py?line=101'>102</a>\u001b[0m         \u001b[39mcontinue\u001b[39;00m\n\u001b[0;32m    <a href='file:///c%3A/Python310/lib/site-packages/stocktrends/indicators.py?line=103'>104</a>\u001b[0m     sdf \u001b[39m=\u001b[39m pd\u001b[39m.\u001b[39mDataFrame(data\u001b[39m=\u001b[39mdata, columns\u001b[39m=\u001b[39mcolumns)\n\u001b[1;32m--> <a href='file:///c%3A/Python310/lib/site-packages/stocktrends/indicators.py?line=104'>105</a>\u001b[0m     \u001b[39mself\u001b[39m\u001b[39m.\u001b[39mcdf \u001b[39m=\u001b[39m pd\u001b[39m.\u001b[39;49mconcat([\u001b[39mself\u001b[39;49m\u001b[39m.\u001b[39;49mcdf, sdf])\n\u001b[0;32m    <a href='file:///c%3A/Python310/lib/site-packages/stocktrends/indicators.py?line=106'>107</a>\u001b[0m \u001b[39mself\u001b[39m\u001b[39m.\u001b[39mcdf\u001b[39m.\u001b[39mreset_index(inplace\u001b[39m=\u001b[39m\u001b[39mTrue\u001b[39;00m, drop\u001b[39m=\u001b[39m\u001b[39mTrue\u001b[39;00m)\n\u001b[0;32m    <a href='file:///c%3A/Python310/lib/site-packages/stocktrends/indicators.py?line=107'>108</a>\u001b[0m \u001b[39mreturn\u001b[39;00m \u001b[39mself\u001b[39m\u001b[39m.\u001b[39mcdf\n",
            "File \u001b[1;32mC:\\Python310\\lib\\site-packages\\pandas\\util\\_decorators.py:311\u001b[0m, in \u001b[0;36mdeprecate_nonkeyword_arguments.<locals>.decorate.<locals>.wrapper\u001b[1;34m(*args, **kwargs)\u001b[0m\n\u001b[0;32m    <a href='file:///c%3A/Python310/lib/site-packages/pandas/util/_decorators.py?line=304'>305</a>\u001b[0m \u001b[39mif\u001b[39;00m \u001b[39mlen\u001b[39m(args) \u001b[39m>\u001b[39m num_allow_args:\n\u001b[0;32m    <a href='file:///c%3A/Python310/lib/site-packages/pandas/util/_decorators.py?line=305'>306</a>\u001b[0m     warnings\u001b[39m.\u001b[39mwarn(\n\u001b[0;32m    <a href='file:///c%3A/Python310/lib/site-packages/pandas/util/_decorators.py?line=306'>307</a>\u001b[0m         msg\u001b[39m.\u001b[39mformat(arguments\u001b[39m=\u001b[39marguments),\n\u001b[0;32m    <a href='file:///c%3A/Python310/lib/site-packages/pandas/util/_decorators.py?line=307'>308</a>\u001b[0m         \u001b[39mFutureWarning\u001b[39;00m,\n\u001b[0;32m    <a href='file:///c%3A/Python310/lib/site-packages/pandas/util/_decorators.py?line=308'>309</a>\u001b[0m         stacklevel\u001b[39m=\u001b[39mstacklevel,\n\u001b[0;32m    <a href='file:///c%3A/Python310/lib/site-packages/pandas/util/_decorators.py?line=309'>310</a>\u001b[0m     )\n\u001b[1;32m--> <a href='file:///c%3A/Python310/lib/site-packages/pandas/util/_decorators.py?line=310'>311</a>\u001b[0m \u001b[39mreturn\u001b[39;00m func(\u001b[39m*\u001b[39margs, \u001b[39m*\u001b[39m\u001b[39m*\u001b[39mkwargs)\n",
            "File \u001b[1;32mC:\\Python310\\lib\\site-packages\\pandas\\core\\reshape\\concat.py:346\u001b[0m, in \u001b[0;36mconcat\u001b[1;34m(objs, axis, join, ignore_index, keys, levels, names, verify_integrity, sort, copy)\u001b[0m\n\u001b[0;32m    <a href='file:///c%3A/Python310/lib/site-packages/pandas/core/reshape/concat.py?line=141'>142</a>\u001b[0m \u001b[39m@deprecate_nonkeyword_arguments\u001b[39m(version\u001b[39m=\u001b[39m\u001b[39mNone\u001b[39;00m, allowed_args\u001b[39m=\u001b[39m[\u001b[39m\"\u001b[39m\u001b[39mobjs\u001b[39m\u001b[39m\"\u001b[39m])\n\u001b[0;32m    <a href='file:///c%3A/Python310/lib/site-packages/pandas/core/reshape/concat.py?line=142'>143</a>\u001b[0m \u001b[39mdef\u001b[39;00m \u001b[39mconcat\u001b[39m(\n\u001b[0;32m    <a href='file:///c%3A/Python310/lib/site-packages/pandas/core/reshape/concat.py?line=143'>144</a>\u001b[0m     objs: Iterable[NDFrame] \u001b[39m|\u001b[39m Mapping[Hashable, NDFrame],\n\u001b[1;32m   (...)\u001b[0m\n\u001b[0;32m    <a href='file:///c%3A/Python310/lib/site-packages/pandas/core/reshape/concat.py?line=152'>153</a>\u001b[0m     copy: \u001b[39mbool\u001b[39m \u001b[39m=\u001b[39m \u001b[39mTrue\u001b[39;00m,\n\u001b[0;32m    <a href='file:///c%3A/Python310/lib/site-packages/pandas/core/reshape/concat.py?line=153'>154</a>\u001b[0m ) \u001b[39m-\u001b[39m\u001b[39m>\u001b[39m DataFrame \u001b[39m|\u001b[39m Series:\n\u001b[0;32m    <a href='file:///c%3A/Python310/lib/site-packages/pandas/core/reshape/concat.py?line=154'>155</a>\u001b[0m     \u001b[39m\"\"\"\u001b[39;00m\n\u001b[0;32m    <a href='file:///c%3A/Python310/lib/site-packages/pandas/core/reshape/concat.py?line=155'>156</a>\u001b[0m \u001b[39m    Concatenate pandas objects along a particular axis with optional set logic\u001b[39;00m\n\u001b[0;32m    <a href='file:///c%3A/Python310/lib/site-packages/pandas/core/reshape/concat.py?line=156'>157</a>\u001b[0m \u001b[39m    along the other axes.\u001b[39;00m\n\u001b[1;32m   (...)\u001b[0m\n\u001b[0;32m    <a href='file:///c%3A/Python310/lib/site-packages/pandas/core/reshape/concat.py?line=343'>344</a>\u001b[0m \u001b[39m    ValueError: Indexes have overlapping values: ['a']\u001b[39;00m\n\u001b[0;32m    <a href='file:///c%3A/Python310/lib/site-packages/pandas/core/reshape/concat.py?line=344'>345</a>\u001b[0m \u001b[39m    \"\"\"\u001b[39;00m\n\u001b[1;32m--> <a href='file:///c%3A/Python310/lib/site-packages/pandas/core/reshape/concat.py?line=345'>346</a>\u001b[0m     op \u001b[39m=\u001b[39m _Concatenator(\n\u001b[0;32m    <a href='file:///c%3A/Python310/lib/site-packages/pandas/core/reshape/concat.py?line=346'>347</a>\u001b[0m         objs,\n\u001b[0;32m    <a href='file:///c%3A/Python310/lib/site-packages/pandas/core/reshape/concat.py?line=347'>348</a>\u001b[0m         axis\u001b[39m=\u001b[39;49maxis,\n\u001b[0;32m    <a href='file:///c%3A/Python310/lib/site-packages/pandas/core/reshape/concat.py?line=348'>349</a>\u001b[0m         ignore_index\u001b[39m=\u001b[39;49mignore_index,\n\u001b[0;32m    <a href='file:///c%3A/Python310/lib/site-packages/pandas/core/reshape/concat.py?line=349'>350</a>\u001b[0m         join\u001b[39m=\u001b[39;49mjoin,\n\u001b[0;32m    <a href='file:///c%3A/Python310/lib/site-packages/pandas/core/reshape/concat.py?line=350'>351</a>\u001b[0m         keys\u001b[39m=\u001b[39;49mkeys,\n\u001b[0;32m    <a href='file:///c%3A/Python310/lib/site-packages/pandas/core/reshape/concat.py?line=351'>352</a>\u001b[0m         levels\u001b[39m=\u001b[39;49mlevels,\n\u001b[0;32m    <a href='file:///c%3A/Python310/lib/site-packages/pandas/core/reshape/concat.py?line=352'>353</a>\u001b[0m         names\u001b[39m=\u001b[39;49mnames,\n\u001b[0;32m    <a href='file:///c%3A/Python310/lib/site-packages/pandas/core/reshape/concat.py?line=353'>354</a>\u001b[0m         verify_integrity\u001b[39m=\u001b[39;49mverify_integrity,\n\u001b[0;32m    <a href='file:///c%3A/Python310/lib/site-packages/pandas/core/reshape/concat.py?line=354'>355</a>\u001b[0m         copy\u001b[39m=\u001b[39;49mcopy,\n\u001b[0;32m    <a href='file:///c%3A/Python310/lib/site-packages/pandas/core/reshape/concat.py?line=355'>356</a>\u001b[0m         sort\u001b[39m=\u001b[39;49msort,\n\u001b[0;32m    <a href='file:///c%3A/Python310/lib/site-packages/pandas/core/reshape/concat.py?line=356'>357</a>\u001b[0m     )\n\u001b[0;32m    <a href='file:///c%3A/Python310/lib/site-packages/pandas/core/reshape/concat.py?line=358'>359</a>\u001b[0m     \u001b[39mreturn\u001b[39;00m op\u001b[39m.\u001b[39mget_result()\n",
            "File \u001b[1;32mC:\\Python310\\lib\\site-packages\\pandas\\core\\reshape\\concat.py:539\u001b[0m, in \u001b[0;36m_Concatenator.__init__\u001b[1;34m(self, objs, axis, join, keys, levels, names, ignore_index, verify_integrity, copy, sort)\u001b[0m\n\u001b[0;32m    <a href='file:///c%3A/Python310/lib/site-packages/pandas/core/reshape/concat.py?line=535'>536</a>\u001b[0m \u001b[39mself\u001b[39m\u001b[39m.\u001b[39mverify_integrity \u001b[39m=\u001b[39m verify_integrity\n\u001b[0;32m    <a href='file:///c%3A/Python310/lib/site-packages/pandas/core/reshape/concat.py?line=536'>537</a>\u001b[0m \u001b[39mself\u001b[39m\u001b[39m.\u001b[39mcopy \u001b[39m=\u001b[39m copy\n\u001b[1;32m--> <a href='file:///c%3A/Python310/lib/site-packages/pandas/core/reshape/concat.py?line=538'>539</a>\u001b[0m \u001b[39mself\u001b[39m\u001b[39m.\u001b[39mnew_axes \u001b[39m=\u001b[39m \u001b[39mself\u001b[39;49m\u001b[39m.\u001b[39;49m_get_new_axes()\n",
            "File \u001b[1;32mC:\\Python310\\lib\\site-packages\\pandas\\core\\reshape\\concat.py:609\u001b[0m, in \u001b[0;36m_Concatenator._get_new_axes\u001b[1;34m(self)\u001b[0m\n\u001b[0;32m    <a href='file:///c%3A/Python310/lib/site-packages/pandas/core/reshape/concat.py?line=606'>607</a>\u001b[0m \u001b[39mdef\u001b[39;00m \u001b[39m_get_new_axes\u001b[39m(\u001b[39mself\u001b[39m) \u001b[39m-\u001b[39m\u001b[39m>\u001b[39m \u001b[39mlist\u001b[39m[Index]:\n\u001b[0;32m    <a href='file:///c%3A/Python310/lib/site-packages/pandas/core/reshape/concat.py?line=607'>608</a>\u001b[0m     ndim \u001b[39m=\u001b[39m \u001b[39mself\u001b[39m\u001b[39m.\u001b[39m_get_result_dim()\n\u001b[1;32m--> <a href='file:///c%3A/Python310/lib/site-packages/pandas/core/reshape/concat.py?line=608'>609</a>\u001b[0m     \u001b[39mreturn\u001b[39;00m [\n\u001b[0;32m    <a href='file:///c%3A/Python310/lib/site-packages/pandas/core/reshape/concat.py?line=609'>610</a>\u001b[0m         \u001b[39mself\u001b[39m\u001b[39m.\u001b[39m_get_concat_axis \u001b[39mif\u001b[39;00m i \u001b[39m==\u001b[39m \u001b[39mself\u001b[39m\u001b[39m.\u001b[39mbm_axis \u001b[39melse\u001b[39;00m \u001b[39mself\u001b[39m\u001b[39m.\u001b[39m_get_comb_axis(i)\n\u001b[0;32m    <a href='file:///c%3A/Python310/lib/site-packages/pandas/core/reshape/concat.py?line=610'>611</a>\u001b[0m         \u001b[39mfor\u001b[39;00m i \u001b[39min\u001b[39;00m \u001b[39mrange\u001b[39m(ndim)\n\u001b[0;32m    <a href='file:///c%3A/Python310/lib/site-packages/pandas/core/reshape/concat.py?line=611'>612</a>\u001b[0m     ]\n",
            "File \u001b[1;32mC:\\Python310\\lib\\site-packages\\pandas\\core\\reshape\\concat.py:610\u001b[0m, in \u001b[0;36m<listcomp>\u001b[1;34m(.0)\u001b[0m\n\u001b[0;32m    <a href='file:///c%3A/Python310/lib/site-packages/pandas/core/reshape/concat.py?line=606'>607</a>\u001b[0m \u001b[39mdef\u001b[39;00m \u001b[39m_get_new_axes\u001b[39m(\u001b[39mself\u001b[39m) \u001b[39m-\u001b[39m\u001b[39m>\u001b[39m \u001b[39mlist\u001b[39m[Index]:\n\u001b[0;32m    <a href='file:///c%3A/Python310/lib/site-packages/pandas/core/reshape/concat.py?line=607'>608</a>\u001b[0m     ndim \u001b[39m=\u001b[39m \u001b[39mself\u001b[39m\u001b[39m.\u001b[39m_get_result_dim()\n\u001b[0;32m    <a href='file:///c%3A/Python310/lib/site-packages/pandas/core/reshape/concat.py?line=608'>609</a>\u001b[0m     \u001b[39mreturn\u001b[39;00m [\n\u001b[1;32m--> <a href='file:///c%3A/Python310/lib/site-packages/pandas/core/reshape/concat.py?line=609'>610</a>\u001b[0m         \u001b[39mself\u001b[39;49m\u001b[39m.\u001b[39;49m_get_concat_axis \u001b[39mif\u001b[39;00m i \u001b[39m==\u001b[39m \u001b[39mself\u001b[39m\u001b[39m.\u001b[39mbm_axis \u001b[39melse\u001b[39;00m \u001b[39mself\u001b[39m\u001b[39m.\u001b[39m_get_comb_axis(i)\n\u001b[0;32m    <a href='file:///c%3A/Python310/lib/site-packages/pandas/core/reshape/concat.py?line=610'>611</a>\u001b[0m         \u001b[39mfor\u001b[39;00m i \u001b[39min\u001b[39;00m \u001b[39mrange\u001b[39m(ndim)\n\u001b[0;32m    <a href='file:///c%3A/Python310/lib/site-packages/pandas/core/reshape/concat.py?line=611'>612</a>\u001b[0m     ]\n",
            "File \u001b[1;32mC:\\Python310\\lib\\site-packages\\pandas\\_libs\\properties.pyx:37\u001b[0m, in \u001b[0;36mpandas._libs.properties.CachedProperty.__get__\u001b[1;34m()\u001b[0m\n",
            "File \u001b[1;32mC:\\Python310\\lib\\site-packages\\pandas\\core\\reshape\\concat.py:665\u001b[0m, in \u001b[0;36m_Concatenator._get_concat_axis\u001b[1;34m(self)\u001b[0m\n\u001b[0;32m    <a href='file:///c%3A/Python310/lib/site-packages/pandas/core/reshape/concat.py?line=661'>662</a>\u001b[0m     \u001b[39mreturn\u001b[39;00m idx\n\u001b[0;32m    <a href='file:///c%3A/Python310/lib/site-packages/pandas/core/reshape/concat.py?line=663'>664</a>\u001b[0m \u001b[39mif\u001b[39;00m \u001b[39mself\u001b[39m\u001b[39m.\u001b[39mkeys \u001b[39mis\u001b[39;00m \u001b[39mNone\u001b[39;00m:\n\u001b[1;32m--> <a href='file:///c%3A/Python310/lib/site-packages/pandas/core/reshape/concat.py?line=664'>665</a>\u001b[0m     concat_axis \u001b[39m=\u001b[39m _concat_indexes(indexes)\n\u001b[0;32m    <a href='file:///c%3A/Python310/lib/site-packages/pandas/core/reshape/concat.py?line=665'>666</a>\u001b[0m \u001b[39melse\u001b[39;00m:\n\u001b[0;32m    <a href='file:///c%3A/Python310/lib/site-packages/pandas/core/reshape/concat.py?line=666'>667</a>\u001b[0m     concat_axis \u001b[39m=\u001b[39m _make_concat_multiindex(\n\u001b[0;32m    <a href='file:///c%3A/Python310/lib/site-packages/pandas/core/reshape/concat.py?line=667'>668</a>\u001b[0m         indexes, \u001b[39mself\u001b[39m\u001b[39m.\u001b[39mkeys, \u001b[39mself\u001b[39m\u001b[39m.\u001b[39mlevels, \u001b[39mself\u001b[39m\u001b[39m.\u001b[39mnames\n\u001b[0;32m    <a href='file:///c%3A/Python310/lib/site-packages/pandas/core/reshape/concat.py?line=668'>669</a>\u001b[0m     )\n",
            "File \u001b[1;32mC:\\Python310\\lib\\site-packages\\pandas\\core\\reshape\\concat.py:683\u001b[0m, in \u001b[0;36m_concat_indexes\u001b[1;34m(indexes)\u001b[0m\n\u001b[0;32m    <a href='file:///c%3A/Python310/lib/site-packages/pandas/core/reshape/concat.py?line=681'>682</a>\u001b[0m \u001b[39mdef\u001b[39;00m \u001b[39m_concat_indexes\u001b[39m(indexes) \u001b[39m-\u001b[39m\u001b[39m>\u001b[39m Index:\n\u001b[1;32m--> <a href='file:///c%3A/Python310/lib/site-packages/pandas/core/reshape/concat.py?line=682'>683</a>\u001b[0m     \u001b[39mreturn\u001b[39;00m indexes[\u001b[39m0\u001b[39;49m]\u001b[39m.\u001b[39;49mappend(indexes[\u001b[39m1\u001b[39;49m:])\n",
            "File \u001b[1;32mC:\\Python310\\lib\\site-packages\\pandas\\core\\indexes\\base.py:5120\u001b[0m, in \u001b[0;36mIndex.append\u001b[1;34m(self, other)\u001b[0m\n\u001b[0;32m   <a href='file:///c%3A/Python310/lib/site-packages/pandas/core/indexes/base.py?line=5116'>5117</a>\u001b[0m names \u001b[39m=\u001b[39m {obj\u001b[39m.\u001b[39mname \u001b[39mfor\u001b[39;00m obj \u001b[39min\u001b[39;00m to_concat}\n\u001b[0;32m   <a href='file:///c%3A/Python310/lib/site-packages/pandas/core/indexes/base.py?line=5117'>5118</a>\u001b[0m name \u001b[39m=\u001b[39m \u001b[39mNone\u001b[39;00m \u001b[39mif\u001b[39;00m \u001b[39mlen\u001b[39m(names) \u001b[39m>\u001b[39m \u001b[39m1\u001b[39m \u001b[39melse\u001b[39;00m \u001b[39mself\u001b[39m\u001b[39m.\u001b[39mname\n\u001b[1;32m-> <a href='file:///c%3A/Python310/lib/site-packages/pandas/core/indexes/base.py?line=5119'>5120</a>\u001b[0m \u001b[39mreturn\u001b[39;00m \u001b[39mself\u001b[39;49m\u001b[39m.\u001b[39;49m_concat(to_concat, name)\n",
            "File \u001b[1;32mC:\\Python310\\lib\\site-packages\\pandas\\core\\indexes\\base.py:5128\u001b[0m, in \u001b[0;36mIndex._concat\u001b[1;34m(self, to_concat, name)\u001b[0m\n\u001b[0;32m   <a href='file:///c%3A/Python310/lib/site-packages/pandas/core/indexes/base.py?line=5122'>5123</a>\u001b[0m \u001b[39m\"\"\"\u001b[39;00m\n\u001b[0;32m   <a href='file:///c%3A/Python310/lib/site-packages/pandas/core/indexes/base.py?line=5123'>5124</a>\u001b[0m \u001b[39mConcatenate multiple Index objects.\u001b[39;00m\n\u001b[0;32m   <a href='file:///c%3A/Python310/lib/site-packages/pandas/core/indexes/base.py?line=5124'>5125</a>\u001b[0m \u001b[39m\"\"\"\u001b[39;00m\n\u001b[0;32m   <a href='file:///c%3A/Python310/lib/site-packages/pandas/core/indexes/base.py?line=5125'>5126</a>\u001b[0m to_concat_vals \u001b[39m=\u001b[39m [x\u001b[39m.\u001b[39m_values \u001b[39mfor\u001b[39;00m x \u001b[39min\u001b[39;00m to_concat]\n\u001b[1;32m-> <a href='file:///c%3A/Python310/lib/site-packages/pandas/core/indexes/base.py?line=5127'>5128</a>\u001b[0m result \u001b[39m=\u001b[39m concat_compat(to_concat_vals)\n\u001b[0;32m   <a href='file:///c%3A/Python310/lib/site-packages/pandas/core/indexes/base.py?line=5129'>5130</a>\u001b[0m is_numeric \u001b[39m=\u001b[39m result\u001b[39m.\u001b[39mdtype\u001b[39m.\u001b[39mkind \u001b[39min\u001b[39;00m [\u001b[39m\"\u001b[39m\u001b[39mi\u001b[39m\u001b[39m\"\u001b[39m, \u001b[39m\"\u001b[39m\u001b[39mu\u001b[39m\u001b[39m\"\u001b[39m, \u001b[39m\"\u001b[39m\u001b[39mf\u001b[39m\u001b[39m\"\u001b[39m]\n\u001b[0;32m   <a href='file:///c%3A/Python310/lib/site-packages/pandas/core/indexes/base.py?line=5130'>5131</a>\u001b[0m \u001b[39mif\u001b[39;00m \u001b[39mself\u001b[39m\u001b[39m.\u001b[39m_is_backward_compat_public_numeric_index \u001b[39mand\u001b[39;00m is_numeric:\n",
            "File \u001b[1;32mC:\\Python310\\lib\\site-packages\\pandas\\core\\dtypes\\concat.py:151\u001b[0m, in \u001b[0;36mconcat_compat\u001b[1;34m(to_concat, axis, ea_compat_axis)\u001b[0m\n\u001b[0;32m    <a href='file:///c%3A/Python310/lib/site-packages/pandas/core/dtypes/concat.py?line=147'>148</a>\u001b[0m             to_concat \u001b[39m=\u001b[39m [x\u001b[39m.\u001b[39mastype(\u001b[39m\"\u001b[39m\u001b[39mobject\u001b[39m\u001b[39m\"\u001b[39m) \u001b[39mfor\u001b[39;00m x \u001b[39min\u001b[39;00m to_concat]\n\u001b[0;32m    <a href='file:///c%3A/Python310/lib/site-packages/pandas/core/dtypes/concat.py?line=148'>149</a>\u001b[0m             kinds \u001b[39m=\u001b[39m {\u001b[39m\"\u001b[39m\u001b[39mo\u001b[39m\u001b[39m\"\u001b[39m}\n\u001b[1;32m--> <a href='file:///c%3A/Python310/lib/site-packages/pandas/core/dtypes/concat.py?line=150'>151</a>\u001b[0m result \u001b[39m=\u001b[39m np\u001b[39m.\u001b[39;49mconcatenate(to_concat, axis\u001b[39m=\u001b[39;49maxis)\n\u001b[0;32m    <a href='file:///c%3A/Python310/lib/site-packages/pandas/core/dtypes/concat.py?line=151'>152</a>\u001b[0m \u001b[39mif\u001b[39;00m \u001b[39m\"\u001b[39m\u001b[39mb\u001b[39m\u001b[39m\"\u001b[39m \u001b[39min\u001b[39;00m kinds \u001b[39mand\u001b[39;00m result\u001b[39m.\u001b[39mdtype\u001b[39m.\u001b[39mkind \u001b[39min\u001b[39;00m [\u001b[39m\"\u001b[39m\u001b[39mi\u001b[39m\u001b[39m\"\u001b[39m, \u001b[39m\"\u001b[39m\u001b[39mu\u001b[39m\u001b[39m\"\u001b[39m, \u001b[39m\"\u001b[39m\u001b[39mf\u001b[39m\u001b[39m\"\u001b[39m]:\n\u001b[0;32m    <a href='file:///c%3A/Python310/lib/site-packages/pandas/core/dtypes/concat.py?line=152'>153</a>\u001b[0m     \u001b[39m# GH#39817\u001b[39;00m\n\u001b[0;32m    <a href='file:///c%3A/Python310/lib/site-packages/pandas/core/dtypes/concat.py?line=153'>154</a>\u001b[0m     warnings\u001b[39m.\u001b[39mwarn(\n\u001b[0;32m    <a href='file:///c%3A/Python310/lib/site-packages/pandas/core/dtypes/concat.py?line=154'>155</a>\u001b[0m         \u001b[39m\"\u001b[39m\u001b[39mBehavior when concatenating bool-dtype and numeric-dtype arrays is \u001b[39m\u001b[39m\"\u001b[39m\n\u001b[0;32m    <a href='file:///c%3A/Python310/lib/site-packages/pandas/core/dtypes/concat.py?line=155'>156</a>\u001b[0m         \u001b[39m\"\u001b[39m\u001b[39mdeprecated; in a future version these will cast to object dtype \u001b[39m\u001b[39m\"\u001b[39m\n\u001b[1;32m   (...)\u001b[0m\n\u001b[0;32m    <a href='file:///c%3A/Python310/lib/site-packages/pandas/core/dtypes/concat.py?line=159'>160</a>\u001b[0m         stacklevel\u001b[39m=\u001b[39mfind_stack_level(),\n\u001b[0;32m    <a href='file:///c%3A/Python310/lib/site-packages/pandas/core/dtypes/concat.py?line=160'>161</a>\u001b[0m     )\n",
            "File \u001b[1;32m<__array_function__ internals>:5\u001b[0m, in \u001b[0;36mconcatenate\u001b[1;34m(*args, **kwargs)\u001b[0m\n",
            "\u001b[1;31mKeyboardInterrupt\u001b[0m: "
          ]
        }
      ],
      "source": [
        "dfTest = None\n",
        "dt = None\n",
        "dt = pd.DataFrame(columns = ['param1', 'result'])\n",
        "\n",
        "# dfTest = df.copy()\n",
        "\n",
        "# -- If you want to run your BackTest on a specific period, uncomment the line below --\n",
        "dfTest = df['2022-01-01':]\n",
        "\n",
        "def buyCondition(rowRenko):\n",
        "    if rowRenko['uptrend'] == True:\n",
        "        return True\n",
        "    else:\n",
        "        return False \n",
        "\n",
        "def sellCondition(rowRenko):\n",
        "    if rowRenko['uptrend'] == False:\n",
        "        return True\n",
        "    else:\n",
        "        return False\n",
        "\n",
        "loopI = [1, 11, 1]\n",
        "enumI = ceil((loopI[1] - loopI[0]) / loopI[2])\n",
        "\n",
        "count = 0\n",
        "maxCount = enumI\n",
        "for i in range(loopI[0], loopI[1], loopI[2]):\n",
        "  count += 1\n",
        "  clear_output(wait=True)\n",
        "  print(\"Loading...\",count,'/',maxCount)\n",
        "  # -- You can change variables below --\n",
        "  usdt = 1000\n",
        "  coin = 0\n",
        "\n",
        "  for index, row in dfTest.iterrows():\n",
        "\n",
        "    startRenko = datetime.strptime(str(index), '%Y-%m-%d %H:%M:%S') - timedelta(minutes=21600)\n",
        "    dfComputeRenko = df[startRenko:index]\n",
        "    dfRenko = df_to_renko(dfComputeRenko, row['close']*i/100)\n",
        "    lastRowRenko = dfRenko.tail(1).squeeze()\n",
        "    \n",
        "    #BUY\n",
        "    if buyCondition(lastRowRenko) and usdt > 0:\n",
        "      coin = (usdt/row['close']) - 0.0007 * (usdt/row['close'])\n",
        "      usdt = 0\n",
        "\n",
        "    #SELL\n",
        "    elif sellCondition(lastRowRenko) and coin > 0:\n",
        "      usdt = coin * row['close'] - (0.0007 * coin * row['close'])\n",
        "      coin = 0\n",
        "\n",
        "  myrow = {'param1': i,'result': coin * dfTest.iloc[len(dfTest)-1]['close'] + usdt}\n",
        "  dt = dt.append(myrow,ignore_index=True)   \n",
        "\n",
        "dt.plot.scatter(x='param1',y=1,c='result',s=50,colormap='OrRd',figsize=(8,6))\n",
        "\n",
        "plt.show()\n",
        "\n",
        "print(dt.sort_values(by=['result']))"
      ]
    }
  ],
  "metadata": {
    "colab": {
      "authorship_tag": "ABX9TyO5yOhZytiWCgR6a66z/Dkh",
      "collapsed_sections": [],
      "include_colab_link": true,
      "name": "Trix Optimizer.ipynb",
      "provenance": []
    },
    "kernelspec": {
      "display_name": "Python 3",
      "name": "python3"
    },
    "language_info": {
      "codemirror_mode": {
        "name": "ipython",
        "version": 3
      },
      "file_extension": ".py",
      "mimetype": "text/x-python",
      "name": "python",
      "nbconvert_exporter": "python",
      "pygments_lexer": "ipython3",
      "version": "3.10.2"
    }
  },
  "nbformat": 4,
  "nbformat_minor": 0
}
