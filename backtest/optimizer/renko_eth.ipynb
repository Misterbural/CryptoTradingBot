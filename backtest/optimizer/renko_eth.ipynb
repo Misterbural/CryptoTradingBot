{
  "cells": [
    {
      "cell_type": "markdown",
      "metadata": {
        "id": "XwM1VV4d2V-R"
      },
      "source": [
        "<h1>Load yours data</h1>"
      ]
    },
    {
      "cell_type": "code",
      "execution_count": 5,
      "metadata": {
        "colab": {
          "base_uri": "https://localhost:8080/"
        },
        "id": "1F0pok5BmY3X",
        "outputId": "f53082da-8a1f-40b3-8689-44bd0f955b42"
      },
      "outputs": [
        {
          "name": "stdout",
          "output_type": "stream",
          "text": [
            "Successfully load 40803 candles for ETHUSDT\n",
            "Data loaded 100%\n"
          ]
        }
      ],
      "source": [
        "# -- Import --\n",
        "import pandas as pd\n",
        "import matplotlib.pyplot as plt\n",
        "import numpy as np\n",
        "from IPython.display import clear_output\n",
        "from math import *\n",
        "from mpl_toolkits.mplot3d import Axes3D\n",
        "from matplotlib import cm\n",
        "import sys\n",
        "import ccxt\n",
        "from datetime import datetime\n",
        "from datetime import timedelta\n",
        "from stocktrends import Renko\n",
        "sys.path.append( '../../utilities' )\n",
        "from data_engine import DataEngine\n",
        "\n",
        "# -- You can change the crypto pair ,the start date and the time interval below --\n",
        "pair = 'ETH/USDT'\n",
        "timeframe = '1h'\n",
        "startDate = '2017-01-01T00:00:00'\n",
        "\n",
        "dataEngine = DataEngine(session=ccxt.binance(), path_to_data='../database/')\n",
        "\n",
        "df = dataEngine.get_historical_from_db(pair, timeframe, startDate)\n",
        "df['date'] = df.index\n",
        "\n",
        "print(\"Data loaded 100%\")\n",
        "\n",
        "# Function to convert ohlc data into renko bricks. Pass dataframe name and brick size\n",
        "def df_to_renko(data, n):\n",
        "    data.reset_index(inplace=True)\n",
        "    data.columns = [i.lower() for i in data.columns]\n",
        "    df = Renko(data)\n",
        "    df.brick_size = n\n",
        "    renko_df = df.get_ohlc_data()\n",
        "    return renko_df"
      ]
    },
    {
      "cell_type": "markdown",
      "metadata": {},
      "source": [
        "<h2>Size renko block Optimizer</h2>"
      ]
    },
    {
      "cell_type": "code",
      "execution_count": 6,
      "metadata": {},
      "outputs": [
        {
          "name": "stdout",
          "output_type": "stream",
          "text": [
            "Loading... 1 / 10\n"
          ]
        }
      ],
      "source": [
        "dfTest = None\n",
        "dt = None\n",
        "dt = pd.DataFrame(columns = ['param1', 'result'])\n",
        "\n",
        "# dfTest = df.copy()\n",
        "\n",
        "# -- If you want to run your BackTest on a specific period, uncomment the line below --\n",
        "dfTest = df['2022-01-01':]\n",
        "\n",
        "def buyCondition(rowRenko):\n",
        "    if rowRenko['uptrend'] == True:\n",
        "        return True\n",
        "    else:\n",
        "        return False \n",
        "\n",
        "def sellCondition(rowRenko):\n",
        "    if rowRenko['uptrend'] == False:\n",
        "        return True\n",
        "    else:\n",
        "        return False\n",
        "\n",
        "loopI = [1, 11, 1]\n",
        "enumI = ceil((loopI[1] - loopI[0]) / loopI[2])\n",
        "\n",
        "count = 0\n",
        "maxCount = enumI\n",
        "for i in range(loopI[0], loopI[1], loopI[2]):\n",
        "  count += 1\n",
        "  clear_output(wait=True)\n",
        "  print(\"Loading...\",count,'/',maxCount)\n",
        "  # -- You can change variables below --\n",
        "  usdt = 1000\n",
        "  coin = 0\n",
        "\n",
        "  for index, row in dfTest.iterrows():\n",
        "\n",
        "    startRenko = datetime.strptime(str(index), '%Y-%m-%d %H:%M:%S') - timedelta(minutes=21600)\n",
        "    dfComputeRenko = df[startRenko:index]\n",
        "    dfRenko = df_to_renko(dfComputeRenko, row['close']*i/100)\n",
        "    lastRowRenko = dfRenko.tail(1).squeeze()\n",
        "    \n",
        "    #BUY\n",
        "    if buyCondition(lastRowRenko) and usdt > 0:\n",
        "      coin = (usdt/row['close']) - 0.0007 * (usdt/row['close'])\n",
        "      usdt = 0\n",
        "\n",
        "    #SELL\n",
        "    elif sellCondition(lastRowRenko) and coin > 0:\n",
        "      usdt = coin * row['close'] - (0.0007 * coin * row['close'])\n",
        "      coin = 0\n",
        "\n",
        "  myrow = {'param1': i,'result': coin * dfTest.iloc[len(dfTest)-1]['close'] + usdt}\n",
        "  dt = dt.append(myrow,ignore_index=True)   \n",
        "\n",
        "dt.plot.scatter(x='param1',y=1,c='result',s=50,colormap='OrRd',figsize=(8,6))\n",
        "\n",
        "plt.show()\n",
        "\n",
        "print(dt.sort_values(by=['result']))"
      ]
    }
  ],
  "metadata": {
    "colab": {
      "authorship_tag": "ABX9TyO5yOhZytiWCgR6a66z/Dkh",
      "collapsed_sections": [],
      "include_colab_link": true,
      "name": "Trix Optimizer.ipynb",
      "provenance": []
    },
    "kernelspec": {
      "display_name": "Python 3",
      "name": "python3"
    },
    "language_info": {
      "codemirror_mode": {
        "name": "ipython",
        "version": 3
      },
      "file_extension": ".py",
      "mimetype": "text/x-python",
      "name": "python",
      "nbconvert_exporter": "python",
      "pygments_lexer": "ipython3",
      "version": "3.10.2"
    }
  },
  "nbformat": 4,
  "nbformat_minor": 0
}
