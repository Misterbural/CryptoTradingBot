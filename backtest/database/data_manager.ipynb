{
 "cells": [
  {
   "cell_type": "code",
   "execution_count": 3,
   "metadata": {},
   "outputs": [],
   "source": [
    "import sys\n",
    "sys.path.append( '../../utilities' )\n",
    "from data_engine import DataEngine\n",
    "import pandas as pd\n",
    "import ccxt\n",
    "import json\n",
    "f = open('../../config/pair_list.json',)\n",
    "pair_json = json.load(f)\n",
    "f.close()"
   ]
  },
  {
   "cell_type": "markdown",
   "metadata": {},
   "source": [
    "<h1>Inspect data from api or database</h1>"
   ]
  },
  {
   "cell_type": "code",
   "execution_count": 6,
   "metadata": {},
   "outputs": [
    {
     "name": "stdout",
     "output_type": "stream",
     "text": [
      "../database/Binance/1h/ETHUSDT.p not exist or error\n"
     ]
    }
   ],
   "source": [
    "# -- Data variable --\n",
    "pair_symbol = 'ETH/USDT'\n",
    "timeframe = '1h'\n",
    "start_date = '2017-01-01T00:00:00'\n",
    "\n",
    "# -- Instance class --\n",
    "dataEngine = DataEngine(session=ccxt.binance())\n",
    "\n",
    "# -- Check from exchange API --\n",
    "# df =dataEngine.get_historical_from_api(pair_symbol, timeframe, start_date)\n",
    "\n",
    "# -- Check from local database --\n",
    "df =dataEngine.get_historical_from_db(pair_symbol, timeframe, start_date)\n",
    "\n",
    "df"
   ]
  },
  {
   "cell_type": "markdown",
   "metadata": {},
   "source": [
    "<h1>Download data from api to local database</h1>"
   ]
  },
  {
   "cell_type": "code",
   "execution_count": 2,
   "metadata": {},
   "outputs": [
    {
     "name": "stdout",
     "output_type": "stream",
     "text": [
      "-> downloding symbol AVAX/USDT for timeframe 1h\n",
      "AVAX/USDT 15926 Candles 1h load since the : 2020-09-22 06:00:00 to : 2022-07-18 13:00:00 in ../database/Binance/1h/AVAXUSDT.p\n",
      "-> downloding symbol SOL/USDT for timeframe 1h\n",
      "SOL/USDT 16934 Candles 1h load since the : 2020-08-11 06:00:00 to : 2022-07-18 13:00:00 in ../database/Binance/1h/SOLUSDT.p\n",
      "-> downloding symbol ATOM/USDT for timeframe 1h\n",
      "ATOM/USDT 28182 Candles 1h load since the : 2019-04-29 04:00:00 to : 2022-07-18 13:00:00 in ../database/Binance/1h/ATOMUSDT.p\n",
      "-> downloding symbol LUNA/USDT for timeframe 1h\n",
      "LUNA/USDT 16253 Candles 1h load since the : 2020-08-21 10:00:00 to : 2022-07-18 13:00:00 in ../database/Binance/1h/LUNAUSDT.p\n",
      "-> downloding symbol BNB/USDT for timeframe 1h\n",
      "BNB/USDT 41052 Candles 1h load since the : 2017-11-06 03:00:00 to : 2022-07-18 13:00:00 in ../database/Binance/1h/BNBUSDT.p\n",
      "-> downloding symbol FTT/USDT for timeframe 1h\n",
      "FTT/USDT 22565 Candles 1h load since the : 2019-12-20 03:00:00 to : 2022-07-18 13:00:00 in ../database/Binance/1h/FTTUSDT.p\n",
      "-> downloding symbol DOT/USDT for timeframe 1h\n",
      "DOT/USDT 16749 Candles 1h load since the : 2020-08-18 23:00:00 to : 2022-07-18 13:00:00 in ../database/Binance/1h/DOTUSDT.p\n",
      "-> downloding symbol BTC/USDT for timeframe 1h\n",
      "BTC/USDT 42988 Candles 1h load since the : 2017-08-17 04:00:00 to : 2022-07-18 13:00:00 in ../database/Binance/1h/BTCUSDT.p\n",
      "-> downloding symbol ETH/USDT for timeframe 1h\n",
      "ETH/USDT 42988 Candles 1h load since the : 2017-08-17 04:00:00 to : 2022-07-18 13:00:00 in ../database/Binance/1h/ETHUSDT.p\n",
      "-> downloding symbol LTC/USDT for timeframe 1h\n",
      "LTC/USDT 40164 Candles 1h load since the : 2017-12-13 03:00:00 to : 2022-07-18 13:00:00 in ../database/Binance/1h/LTCUSDT.p\n",
      "-> downloding symbol XRP/USDT for timeframe 1h\n",
      "XRP/USDT 36784 Candles 1h load since the : 2018-05-04 08:00:00 to : 2022-07-18 13:00:00 in ../database/Binance/1h/XRPUSDT.p\n",
      "-> downloding symbol RUNE/USDT for timeframe 1h\n",
      "RUNE/USDT 16358 Candles 1h load since the : 2020-09-04 06:00:00 to : 2022-07-18 13:00:00 in ../database/Binance/1h/RUNEUSDT.p\n",
      "-> downloding symbol LINK/USDT for timeframe 1h\n",
      "LINK/USDT 30642 Candles 1h load since the : 2019-01-16 10:00:00 to : 2022-07-18 13:00:00 in ../database/Binance/1h/LINKUSDT.p\n",
      "-> downloding symbol DOGE/USDT for timeframe 1h\n",
      "DOGE/USDT 26576 Candles 1h load since the : 2019-07-05 12:00:00 to : 2022-07-18 13:00:00 in ../database/Binance/1h/DOGEUSDT.p\n",
      "-> downloding symbol BCH/USDT for timeframe 1h\n",
      "BCH/USDT 23086 Candles 1h load since the : 2019-11-28 10:00:00 to : 2022-07-18 13:00:00 in ../database/Binance/1h/BCHUSDT.p\n",
      "-> downloding symbol SUSHI/USDT for timeframe 1h\n",
      "SUSHI/USDT 16425 Candles 1h load since the : 2020-09-01 11:00:00 to : 2022-07-18 13:00:00 in ../database/Binance/1h/SUSHIUSDT.p\n",
      "-> downloding symbol SRM/USDT for timeframe 1h\n",
      "SRM/USDT 16927 Candles 1h load since the : 2020-08-11 13:00:00 to : 2022-07-18 13:00:00 in ../database/Binance/1h/SRMUSDT.p\n",
      "-> downloding symbol TRX/USDT for timeframe 1h\n",
      "TRX/USDT 35869 Candles 1h load since the : 2018-06-11 11:00:00 to : 2022-07-18 13:00:00 in ../database/Binance/1h/TRXUSDT.p\n",
      "-> downloding symbol AAVE/USDT for timeframe 1h\n",
      "AAVE/USDT 15377 Candles 1h load since the : 2020-10-15 03:00:00 to : 2022-07-18 13:00:00 in ../database/Binance/1h/AAVEUSDT.p\n"
     ]
    }
   ],
   "source": [
    "# -- Data variable --\n",
    "pair_symbols = pair_json['ftxClassicPair']\n",
    "timeframes = ['1h']\n",
    "start_date = '2017-01-01T00:00:00'\n",
    "\n",
    "# -- Instance class --\n",
    "dataEngine = DataEngine(session=ccxt.binance())\n",
    "\n",
    "# -- Download data from data variable --\n",
    "dataEngine.download_data(pair_symbols, timeframes, start_date)\n"
   ]
  },
  {
   "cell_type": "markdown",
   "metadata": {},
   "source": [
    "<h1>Update data from local database with new data from api</h1>"
   ]
  },
  {
   "cell_type": "code",
   "execution_count": 4,
   "metadata": {},
   "outputs": [
    {
     "name": "stdout",
     "output_type": "stream",
     "text": [
      "AVAX/USDT 25 New candles 1h load since the : 2020-09-22 06:00:00 in ../database/Binance/1h/AVAXUSDT.p\n",
      "SOL/USDT 25 New candles 1h load since the : 2020-08-11 06:00:00 in ../database/Binance/1h/SOLUSDT.p\n",
      "ATOM/USDT 25 New candles 1h load since the : 2019-04-29 04:00:00 in ../database/Binance/1h/ATOMUSDT.p\n",
      "LUNA/USDT 25 New candles 1h load since the : 2020-08-21 10:00:00 in ../database/Binance/1h/LUNAUSDT.p\n",
      "BNB/USDT 25 New candles 1h load since the : 2017-11-06 03:00:00 in ../database/Binance/1h/BNBUSDT.p\n",
      "FTT/USDT 25 New candles 1h load since the : 2019-12-20 03:00:00 in ../database/Binance/1h/FTTUSDT.p\n",
      "DOT/USDT 25 New candles 1h load since the : 2020-08-18 23:00:00 in ../database/Binance/1h/DOTUSDT.p\n",
      "BTC/USDT 25 New candles 1h load since the : 2017-08-17 04:00:00 in ../database/Binance/1h/BTCUSDT.p\n",
      "ETH/USDT 25 New candles 1h load since the : 2017-08-17 04:00:00 in ../database/Binance/1h/ETHUSDT.p\n",
      "LTC/USDT 25 New candles 1h load since the : 2017-12-13 03:00:00 in ../database/Binance/1h/LTCUSDT.p\n",
      "XRP/USDT 25 New candles 1h load since the : 2018-05-04 08:00:00 in ../database/Binance/1h/XRPUSDT.p\n",
      "RUNE/USDT 25 New candles 1h load since the : 2020-09-04 06:00:00 in ../database/Binance/1h/RUNEUSDT.p\n",
      "LINK/USDT 25 New candles 1h load since the : 2019-01-16 10:00:00 in ../database/Binance/1h/LINKUSDT.p\n",
      "DOGE/USDT 25 New candles 1h load since the : 2019-07-05 12:00:00 in ../database/Binance/1h/DOGEUSDT.p\n",
      "BCH/USDT 25 New candles 1h load since the : 2019-11-28 10:00:00 in ../database/Binance/1h/BCHUSDT.p\n",
      "SUSHI/USDT 25 New candles 1h load since the : 2020-09-01 11:00:00 in ../database/Binance/1h/SUSHIUSDT.p\n",
      "SRM/USDT 25 New candles 1h load since the : 2020-08-11 13:00:00 in ../database/Binance/1h/SRMUSDT.p\n",
      "TRX/USDT 25 New candles 1h load since the : 2018-06-11 11:00:00 in ../database/Binance/1h/TRXUSDT.p\n",
      "AAVE/USDT 25 New candles 1h load since the : 2020-10-15 03:00:00 in ../database/Binance/1h/AAVEUSDT.p\n"
     ]
    }
   ],
   "source": [
    "# -- Data variable --\n",
    "pair_symbols = pair_json['ftxClassicPair']\n",
    "timeframes = ['1h']\n",
    "\n",
    "# -- Instance class --\n",
    "dataEngine = DataEngine(session=ccxt.binance())\n",
    "\n",
    "# -- Download data from data variable --\n",
    "dataEngine.update_data(pair_symbols, timeframes)"
   ]
  }
 ],
 "metadata": {
  "interpreter": {
   "hash": "369f2c481f4da34e4445cda3fffd2e751bd1c4d706f27375911949ba6bb62e1c"
  },
  "kernelspec": {
   "display_name": "Python 3.10.2 64-bit",
   "language": "python",
   "name": "python3"
  },
  "language_info": {
   "codemirror_mode": {
    "name": "ipython",
    "version": 3
   },
   "file_extension": ".py",
   "mimetype": "text/x-python",
   "name": "python",
   "nbconvert_exporter": "python",
   "pygments_lexer": "ipython3",
   "version": "3.10.2"
  },
  "orig_nbformat": 4
 },
 "nbformat": 4,
 "nbformat_minor": 2
}
