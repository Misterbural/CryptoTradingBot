{
 "cells": [
  {
   "cell_type": "code",
   "execution_count": 1,
   "metadata": {},
   "outputs": [],
   "source": [
    "import sys\n",
    "sys.path.append( '../../utilities' )\n",
    "from data_engine import DataEngine\n",
    "import pandas as pd\n",
    "import ccxt\n",
    "import json\n",
    "f = open('../../config/pair_list.json',)\n",
    "pair_json = json.load(f)\n",
    "f.close()"
   ]
  },
  {
   "cell_type": "markdown",
   "metadata": {},
   "source": [
    "<h1>Inspect data from api or database</h1>"
   ]
  },
  {
   "cell_type": "code",
   "execution_count": 2,
   "metadata": {},
   "outputs": [
    {
     "name": "stdout",
     "output_type": "stream",
     "text": [
      "../database/Binance/15m/ETHUSDT.p not exist or error\n"
     ]
    }
   ],
   "source": [
    "# -- Data variable --\n",
    "pair_symbol = 'ETH/USDT'\n",
    "timeframe = '15m'\n",
    "start_date = '2017-01-01T00:00:00'\n",
    "\n",
    "# -- Instance class --\n",
    "dataEngine = DataEngine(session=ccxt.binance())\n",
    "\n",
    "# -- Check from exchange API --\n",
    "# df =dataEngine.get_historical_from_api(pair_symbol, timeframe, start_date)\n",
    "\n",
    "# -- Check from local database --\n",
    "df =dataEngine.get_historical_from_db(pair_symbol, timeframe, start_date)\n",
    "\n",
    "df"
   ]
  },
  {
   "cell_type": "markdown",
   "metadata": {},
   "source": [
    "<h1>Download data from api to local database</h1>"
   ]
  },
  {
   "cell_type": "code",
   "execution_count": 3,
   "metadata": {},
   "outputs": [
    {
     "name": "stdout",
     "output_type": "stream",
     "text": [
      "-> downloding symbol AVAX/USDT for timeframe 15m\n",
      "AVAX/USDT 53723 Candles 15m load since the : 2020-10-04 00:00:00 to : 2022-04-17 12:30:00 in ../database/Binance/15m/AVAXUSDT.p\n",
      "-> downloding symbol SOL/USDT for timeframe 15m\n",
      "SOL/USDT 58883 Candles 15m load since the : 2020-08-11 06:00:00 to : 2022-04-17 12:30:00 in ../database/Binance/15m/SOLUSDT.p\n",
      "-> downloding symbol ATOM/USDT for timeframe 15m\n",
      "ATOM/USDT 103859 Candles 15m load since the : 2019-04-29 04:00:00 to : 2022-04-17 12:30:00 in ../database/Binance/15m/ATOMUSDT.p\n",
      "-> downloding symbol LUNA/USDT for timeframe 15m\n",
      "LUNA/USDT 56411 Candles 15m load since the : 2020-09-06 00:00:00 to : 2022-04-17 12:30:00 in ../database/Binance/15m/LUNAUSDT.p\n",
      "-> downloding symbol BNB/USDT for timeframe 15m\n",
      "BNB/USDT 155315 Candles 15m load since the : 2017-11-06 03:45:00 to : 2022-04-17 12:30:00 in ../database/Binance/15m/BNBUSDT.p\n",
      "-> downloding symbol FTT/USDT for timeframe 15m\n",
      "FTT/USDT 80544 Candles 15m load since the : 2019-12-29 00:00:00 to : 2022-04-17 12:30:00 in ../database/Binance/15m/FTTUSDT.p\n",
      "-> downloding symbol DOT/USDT for timeframe 15m\n",
      "DOT/USDT 58143 Candles 15m load since the : 2020-08-18 23:00:00 to : 2022-04-17 12:30:00 in ../database/Binance/15m/DOTUSDT.p\n",
      "-> downloding symbol BTC/USDT for timeframe 15m\n",
      "BTC/USDT 163062 Candles 15m load since the : 2017-08-17 04:00:00 to : 2022-04-17 12:30:00 in ../database/Binance/15m/BTCUSDT.p\n",
      "-> downloding symbol ETH/USDT for timeframe 15m\n",
      "ETH/USDT 163062 Candles 15m load since the : 2017-08-17 04:00:00 to : 2022-04-17 12:30:00 in ../database/Binance/15m/ETHUSDT.p\n",
      "-> downloding symbol LTC/USDT for timeframe 15m\n",
      "LTC/USDT 151763 Candles 15m load since the : 2017-12-13 03:30:00 to : 2022-04-17 12:30:00 in ../database/Binance/15m/LTCUSDT.p\n",
      "-> downloding symbol XRP/USDT for timeframe 15m\n",
      "XRP/USDT 136756 Candles 15m load since the : 2018-05-20 00:00:00 to : 2022-04-17 12:30:00 in ../database/Binance/15m/XRPUSDT.p\n",
      "-> downloding symbol RUNE/USDT for timeframe 15m\n",
      "RUNE/USDT 56411 Candles 15m load since the : 2020-09-06 00:00:00 to : 2022-04-17 12:30:00 in ../database/Binance/15m/RUNEUSDT.p\n",
      "-> downloding symbol LINK/USDT for timeframe 15m\n",
      "LINK/USDT 112683 Candles 15m load since the : 2019-01-27 00:00:00 to : 2022-04-17 12:30:00 in ../database/Binance/15m/LINKUSDT.p\n",
      "-> downloding symbol DOGE/USDT for timeframe 15m\n",
      "DOGE/USDT 96624 Candles 15m load since the : 2019-07-14 00:00:00 to : 2022-04-17 12:45:00 in ../database/Binance/15m/DOGEUSDT.p\n",
      "-> downloding symbol BCH/USDT for timeframe 15m\n",
      "BCH/USDT 83233 Candles 15m load since the : 2019-12-01 00:00:00 to : 2022-04-17 12:45:00 in ../database/Binance/15m/BCHUSDT.p\n",
      "-> downloding symbol SUSHI/USDT for timeframe 15m\n",
      "SUSHI/USDT 56412 Candles 15m load since the : 2020-09-06 00:00:00 to : 2022-04-17 12:45:00 in ../database/Binance/15m/SUSHIUSDT.p\n",
      "-> downloding symbol SRM/USDT for timeframe 15m\n",
      "SRM/USDT 58854 Candles 15m load since the : 2020-08-11 13:30:00 to : 2022-04-17 12:45:00 in ../database/Binance/15m/SRMUSDT.p\n",
      "-> downloding symbol TRX/USDT for timeframe 15m\n",
      "TRX/USDT 134069 Candles 15m load since the : 2018-06-17 00:00:00 to : 2022-04-17 12:45:00 in ../database/Binance/15m/TRXUSDT.p\n",
      "-> downloding symbol AAVE/USDT for timeframe 15m\n",
      "AAVE/USDT 51036 Candles 15m load since the : 2020-11-01 00:00:00 to : 2022-04-17 12:45:00 in ../database/Binance/15m/AAVEUSDT.p\n"
     ]
    }
   ],
   "source": [
    "# -- Data variable --\n",
    "pair_symbols = pair_json['ftxClassicPair']\n",
    "timeframes = ['15m']\n",
    "start_date = '2017-01-01T00:00:00'\n",
    "\n",
    "# -- Instance class --\n",
    "dataEngine = DataEngine(session=ccxt.binance())\n",
    "\n",
    "# -- Download data from data variable --\n",
    "dataEngine.download_data(pair_symbols, timeframes, start_date)\n"
   ]
  },
  {
   "cell_type": "markdown",
   "metadata": {},
   "source": [
    "<h1>Update data from local database with new data from api</h1>"
   ]
  },
  {
   "cell_type": "code",
   "execution_count": 4,
   "metadata": {},
   "outputs": [
    {
     "name": "stdout",
     "output_type": "stream",
     "text": [
      "AVAX/USDT 1 New candles 15m load since the : 2020-10-04 00:00:00 in ../database/Binance/15m/AVAXUSDT.p\n",
      "SOL/USDT 1 New candles 15m load since the : 2020-08-11 06:00:00 in ../database/Binance/15m/SOLUSDT.p\n",
      "ATOM/USDT 1 New candles 15m load since the : 2019-04-29 04:00:00 in ../database/Binance/15m/ATOMUSDT.p\n",
      "LUNA/USDT 1 New candles 15m load since the : 2020-09-06 00:00:00 in ../database/Binance/15m/LUNAUSDT.p\n",
      "BNB/USDT 1 New candles 15m load since the : 2017-11-06 03:45:00 in ../database/Binance/15m/BNBUSDT.p\n",
      "FTT/USDT 1 New candles 15m load since the : 2019-12-29 00:00:00 in ../database/Binance/15m/FTTUSDT.p\n",
      "DOT/USDT 1 New candles 15m load since the : 2020-08-18 23:00:00 in ../database/Binance/15m/DOTUSDT.p\n",
      "BTC/USDT 1 New candles 15m load since the : 2017-08-17 04:00:00 in ../database/Binance/15m/BTCUSDT.p\n",
      "ETH/USDT 1 New candles 15m load since the : 2017-08-17 04:00:00 in ../database/Binance/15m/ETHUSDT.p\n",
      "LTC/USDT 1 New candles 15m load since the : 2017-12-13 03:30:00 in ../database/Binance/15m/LTCUSDT.p\n",
      "XRP/USDT 1 New candles 15m load since the : 2018-05-20 00:00:00 in ../database/Binance/15m/XRPUSDT.p\n",
      "RUNE/USDT 1 New candles 15m load since the : 2020-09-06 00:00:00 in ../database/Binance/15m/RUNEUSDT.p\n",
      "LINK/USDT 1 New candles 15m load since the : 2019-01-27 00:00:00 in ../database/Binance/15m/LINKUSDT.p\n",
      "DOGE/USDT 0 New candles 15m load since the : 2019-07-14 00:00:00 in ../database/Binance/15m/DOGEUSDT.p\n",
      "BCH/USDT 0 New candles 15m load since the : 2019-12-01 00:00:00 in ../database/Binance/15m/BCHUSDT.p\n",
      "SUSHI/USDT 0 New candles 15m load since the : 2020-09-06 00:00:00 in ../database/Binance/15m/SUSHIUSDT.p\n",
      "SRM/USDT 0 New candles 15m load since the : 2020-08-11 13:30:00 in ../database/Binance/15m/SRMUSDT.p\n",
      "TRX/USDT 0 New candles 15m load since the : 2018-06-17 00:00:00 in ../database/Binance/15m/TRXUSDT.p\n",
      "AAVE/USDT 0 New candles 15m load since the : 2020-11-01 00:00:00 in ../database/Binance/15m/AAVEUSDT.p\n"
     ]
    }
   ],
   "source": [
    "# -- Data variable --\n",
    "pair_symbols = pair_json['ftxClassicPair']\n",
    "timeframes = ['15m']\n",
    "\n",
    "# -- Instance class --\n",
    "dataEngine = DataEngine(session=ccxt.binance())\n",
    "\n",
    "# -- Download data from data variable --\n",
    "dataEngine.update_data(pair_symbols, timeframes)"
   ]
  }
 ],
 "metadata": {
  "interpreter": {
   "hash": "b99de858d01b8bcc47614726909171e040cc7bf90a13719c5d6ce860f919fb18"
  },
  "kernelspec": {
   "display_name": "Python 3.9.0 64-bit ('.venv': venv)",
   "language": "python",
   "name": "python3"
  },
  "language_info": {
   "codemirror_mode": {
    "name": "ipython",
    "version": 3
   },
   "file_extension": ".py",
   "mimetype": "text/x-python",
   "name": "python",
   "nbconvert_exporter": "python",
   "pygments_lexer": "ipython3",
   "version": "3.7.3"
  },
  "orig_nbformat": 4
 },
 "nbformat": 4,
 "nbformat_minor": 2
}
