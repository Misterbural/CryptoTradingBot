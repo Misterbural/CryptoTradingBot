{
 "cells": [
  {
   "cell_type": "code",
   "execution_count": 4,
   "metadata": {},
   "outputs": [],
   "source": [
    "import sys\n",
    "sys.path.append( '../../utilities' )\n",
    "from data_engine import DataEngine\n",
    "import pandas as pd\n",
    "import ccxt\n",
    "import json\n",
    "f = open('../../config/pair_list.json',)\n",
    "pair_json = json.load(f)\n",
    "f.close()"
   ]
  },
  {
   "cell_type": "markdown",
   "metadata": {},
   "source": [
    "<h1>Inspect data from api or database</h1>"
   ]
  },
  {
   "cell_type": "code",
   "execution_count": 5,
   "metadata": {},
   "outputs": [
    {
     "name": "stdout",
     "output_type": "stream",
     "text": [
      "Successfully load 172564 candles for ETHUSDT\n"
     ]
    },
    {
     "data": {
      "text/html": [
       "<div>\n",
       "<style scoped>\n",
       "    .dataframe tbody tr th:only-of-type {\n",
       "        vertical-align: middle;\n",
       "    }\n",
       "\n",
       "    .dataframe tbody tr th {\n",
       "        vertical-align: top;\n",
       "    }\n",
       "\n",
       "    .dataframe thead th {\n",
       "        text-align: right;\n",
       "    }\n",
       "</style>\n",
       "<table border=\"1\" class=\"dataframe\">\n",
       "  <thead>\n",
       "    <tr style=\"text-align: right;\">\n",
       "      <th></th>\n",
       "      <th>open</th>\n",
       "      <th>high</th>\n",
       "      <th>low</th>\n",
       "      <th>close</th>\n",
       "      <th>volume</th>\n",
       "    </tr>\n",
       "    <tr>\n",
       "      <th>timestamp</th>\n",
       "      <th></th>\n",
       "      <th></th>\n",
       "      <th></th>\n",
       "      <th></th>\n",
       "      <th></th>\n",
       "    </tr>\n",
       "  </thead>\n",
       "  <tbody>\n",
       "    <tr>\n",
       "      <th>2017-08-17 04:00:00</th>\n",
       "      <td>301.13</td>\n",
       "      <td>301.13</td>\n",
       "      <td>298.00</td>\n",
       "      <td>298.00</td>\n",
       "      <td>5.80167</td>\n",
       "    </tr>\n",
       "    <tr>\n",
       "      <th>2017-08-17 04:15:00</th>\n",
       "      <td>298.00</td>\n",
       "      <td>300.80</td>\n",
       "      <td>298.00</td>\n",
       "      <td>299.39</td>\n",
       "      <td>31.44065</td>\n",
       "    </tr>\n",
       "    <tr>\n",
       "      <th>2017-08-17 04:30:00</th>\n",
       "      <td>299.39</td>\n",
       "      <td>300.79</td>\n",
       "      <td>299.39</td>\n",
       "      <td>299.60</td>\n",
       "      <td>52.93579</td>\n",
       "    </tr>\n",
       "    <tr>\n",
       "      <th>2017-08-17 04:45:00</th>\n",
       "      <td>299.60</td>\n",
       "      <td>302.57</td>\n",
       "      <td>299.60</td>\n",
       "      <td>301.61</td>\n",
       "      <td>35.49066</td>\n",
       "    </tr>\n",
       "    <tr>\n",
       "      <th>2017-08-17 05:00:00</th>\n",
       "      <td>301.61</td>\n",
       "      <td>302.57</td>\n",
       "      <td>300.95</td>\n",
       "      <td>302.01</td>\n",
       "      <td>81.69235</td>\n",
       "    </tr>\n",
       "    <tr>\n",
       "      <th>...</th>\n",
       "      <td>...</td>\n",
       "      <td>...</td>\n",
       "      <td>...</td>\n",
       "      <td>...</td>\n",
       "      <td>...</td>\n",
       "    </tr>\n",
       "    <tr>\n",
       "      <th>2022-07-25 11:45:00</th>\n",
       "      <td>1539.38</td>\n",
       "      <td>1543.23</td>\n",
       "      <td>1536.45</td>\n",
       "      <td>1537.50</td>\n",
       "      <td>6055.54050</td>\n",
       "    </tr>\n",
       "    <tr>\n",
       "      <th>2022-07-25 12:00:00</th>\n",
       "      <td>1537.49</td>\n",
       "      <td>1538.34</td>\n",
       "      <td>1517.11</td>\n",
       "      <td>1523.83</td>\n",
       "      <td>20306.88120</td>\n",
       "    </tr>\n",
       "    <tr>\n",
       "      <th>2022-07-25 12:15:00</th>\n",
       "      <td>1523.82</td>\n",
       "      <td>1531.92</td>\n",
       "      <td>1520.33</td>\n",
       "      <td>1527.15</td>\n",
       "      <td>10987.71960</td>\n",
       "    </tr>\n",
       "    <tr>\n",
       "      <th>2022-07-25 12:30:00</th>\n",
       "      <td>1527.15</td>\n",
       "      <td>1530.94</td>\n",
       "      <td>1526.55</td>\n",
       "      <td>1527.33</td>\n",
       "      <td>6397.73060</td>\n",
       "    </tr>\n",
       "    <tr>\n",
       "      <th>2022-07-25 12:45:00</th>\n",
       "      <td>1527.34</td>\n",
       "      <td>1538.65</td>\n",
       "      <td>1523.77</td>\n",
       "      <td>1536.60</td>\n",
       "      <td>7717.43680</td>\n",
       "    </tr>\n",
       "  </tbody>\n",
       "</table>\n",
       "<p>172564 rows × 5 columns</p>\n",
       "</div>"
      ],
      "text/plain": [
       "                        open     high      low    close       volume\n",
       "timestamp                                                           \n",
       "2017-08-17 04:00:00   301.13   301.13   298.00   298.00      5.80167\n",
       "2017-08-17 04:15:00   298.00   300.80   298.00   299.39     31.44065\n",
       "2017-08-17 04:30:00   299.39   300.79   299.39   299.60     52.93579\n",
       "2017-08-17 04:45:00   299.60   302.57   299.60   301.61     35.49066\n",
       "2017-08-17 05:00:00   301.61   302.57   300.95   302.01     81.69235\n",
       "...                      ...      ...      ...      ...          ...\n",
       "2022-07-25 11:45:00  1539.38  1543.23  1536.45  1537.50   6055.54050\n",
       "2022-07-25 12:00:00  1537.49  1538.34  1517.11  1523.83  20306.88120\n",
       "2022-07-25 12:15:00  1523.82  1531.92  1520.33  1527.15  10987.71960\n",
       "2022-07-25 12:30:00  1527.15  1530.94  1526.55  1527.33   6397.73060\n",
       "2022-07-25 12:45:00  1527.34  1538.65  1523.77  1536.60   7717.43680\n",
       "\n",
       "[172564 rows x 5 columns]"
      ]
     },
     "execution_count": 5,
     "metadata": {},
     "output_type": "execute_result"
    }
   ],
   "source": [
    "# -- Data variable --\n",
    "pair_symbol = 'ETH/USDT'\n",
    "timeframe = '15m'\n",
    "start_date = '2017-01-01T00:00:00'\n",
    "\n",
    "# -- Instance class --\n",
    "dataEngine = DataEngine(session=ccxt.binance())\n",
    "\n",
    "# -- Check from exchange API --\n",
    "# df =dataEngine.get_historical_from_api(pair_symbol, timeframe, start_date)\n",
    "\n",
    "# -- Check from local database --\n",
    "df =dataEngine.get_historical_from_db(pair_symbol, timeframe, start_date)\n",
    "\n",
    "df"
   ]
  },
  {
   "cell_type": "markdown",
   "metadata": {},
   "source": [
    "<h1>Download data from api to local database</h1>"
   ]
  },
  {
   "cell_type": "code",
   "execution_count": 6,
   "metadata": {},
   "outputs": [
    {
     "name": "stdout",
     "output_type": "stream",
     "text": [
      "-> downloding symbol AVAX/USDT for timeframe 1h\n",
      "AVAX/USDT 16095 Candles 1h load since the : 2020-09-22 06:00:00 to : 2022-07-25 15:00:00 in ../database/Binance/1h/AVAXUSDT.p\n",
      "-> downloding symbol SOL/USDT for timeframe 1h\n",
      "SOL/USDT 17103 Candles 1h load since the : 2020-08-11 06:00:00 to : 2022-07-25 15:00:00 in ../database/Binance/1h/SOLUSDT.p\n",
      "-> downloding symbol ATOM/USDT for timeframe 1h\n",
      "ATOM/USDT 28351 Candles 1h load since the : 2019-04-29 04:00:00 to : 2022-07-25 15:00:00 in ../database/Binance/1h/ATOMUSDT.p\n",
      "-> downloding symbol LUNA/USDT for timeframe 1h\n",
      "LUNA/USDT 16422 Candles 1h load since the : 2020-08-21 10:00:00 to : 2022-07-25 15:00:00 in ../database/Binance/1h/LUNAUSDT.p\n",
      "-> downloding symbol BNB/USDT for timeframe 1h\n",
      "BNB/USDT 41220 Candles 1h load since the : 2017-11-06 03:00:00 to : 2022-07-25 15:00:00 in ../database/Binance/1h/BNBUSDT.p\n",
      "-> downloding symbol FTT/USDT for timeframe 1h\n",
      "FTT/USDT 22734 Candles 1h load since the : 2019-12-20 03:00:00 to : 2022-07-25 15:00:00 in ../database/Binance/1h/FTTUSDT.p\n",
      "-> downloding symbol DOT/USDT for timeframe 1h\n",
      "DOT/USDT 16918 Candles 1h load since the : 2020-08-18 23:00:00 to : 2022-07-25 15:00:00 in ../database/Binance/1h/DOTUSDT.p\n",
      "-> downloding symbol BTC/USDT for timeframe 1h\n",
      "BTC/USDT 43157 Candles 1h load since the : 2017-08-17 04:00:00 to : 2022-07-25 15:00:00 in ../database/Binance/1h/BTCUSDT.p\n",
      "-> downloding symbol ETH/USDT for timeframe 1h\n",
      "ETH/USDT 43157 Candles 1h load since the : 2017-08-17 04:00:00 to : 2022-07-25 15:00:00 in ../database/Binance/1h/ETHUSDT.p\n",
      "-> downloding symbol LTC/USDT for timeframe 1h\n",
      "LTC/USDT 40332 Candles 1h load since the : 2017-12-13 03:00:00 to : 2022-07-25 15:00:00 in ../database/Binance/1h/LTCUSDT.p\n",
      "-> downloding symbol XRP/USDT for timeframe 1h\n",
      "XRP/USDT 36953 Candles 1h load since the : 2018-05-04 08:00:00 to : 2022-07-25 15:00:00 in ../database/Binance/1h/XRPUSDT.p\n",
      "-> downloding symbol RUNE/USDT for timeframe 1h\n",
      "RUNE/USDT 16527 Candles 1h load since the : 2020-09-04 06:00:00 to : 2022-07-25 15:00:00 in ../database/Binance/1h/RUNEUSDT.p\n",
      "-> downloding symbol LINK/USDT for timeframe 1h\n",
      "LINK/USDT 30811 Candles 1h load since the : 2019-01-16 10:00:00 to : 2022-07-25 15:00:00 in ../database/Binance/1h/LINKUSDT.p\n",
      "-> downloding symbol DOGE/USDT for timeframe 1h\n",
      "DOGE/USDT 26745 Candles 1h load since the : 2019-07-05 12:00:00 to : 2022-07-25 15:00:00 in ../database/Binance/1h/DOGEUSDT.p\n",
      "-> downloding symbol BCH/USDT for timeframe 1h\n",
      "BCH/USDT 23255 Candles 1h load since the : 2019-11-28 10:00:00 to : 2022-07-25 15:00:00 in ../database/Binance/1h/BCHUSDT.p\n",
      "-> downloding symbol SUSHI/USDT for timeframe 1h\n",
      "SUSHI/USDT 16594 Candles 1h load since the : 2020-09-01 11:00:00 to : 2022-07-25 15:00:00 in ../database/Binance/1h/SUSHIUSDT.p\n",
      "-> downloding symbol SRM/USDT for timeframe 1h\n",
      "SRM/USDT 17096 Candles 1h load since the : 2020-08-11 13:00:00 to : 2022-07-25 15:00:00 in ../database/Binance/1h/SRMUSDT.p\n",
      "-> downloding symbol TRX/USDT for timeframe 1h\n",
      "TRX/USDT 36038 Candles 1h load since the : 2018-06-11 11:00:00 to : 2022-07-25 15:00:00 in ../database/Binance/1h/TRXUSDT.p\n",
      "-> downloding symbol AAVE/USDT for timeframe 1h\n",
      "AAVE/USDT 15546 Candles 1h load since the : 2020-10-15 03:00:00 to : 2022-07-25 15:00:00 in ../database/Binance/1h/AAVEUSDT.p\n"
     ]
    }
   ],
   "source": [
    "# -- Data variable --\n",
    "pair_symbols = pair_json['ftxClassicPair']\n",
    "timeframes = ['1h']\n",
    "start_date = '2017-01-01T00:00:00'\n",
    "\n",
    "# -- Instance class --\n",
    "dataEngine = DataEngine(session=ccxt.binance())\n",
    "\n",
    "# -- Download data from data variable --\n",
    "dataEngine.download_data(pair_symbols, timeframes, start_date)\n"
   ]
  },
  {
   "cell_type": "markdown",
   "metadata": {},
   "source": [
    "<h1>Update data from local database with new data from api</h1>"
   ]
  },
  {
   "cell_type": "code",
   "execution_count": 7,
   "metadata": {},
   "outputs": [
    {
     "name": "stdout",
     "output_type": "stream",
     "text": [
      "AVAX/USDT 999 New candles 15m load since the : 2020-10-04 00:00:00 in ../database/Binance/15m/AVAXUSDT.p\n",
      "SOL/USDT 11 New candles 15m load since the : 2020-08-11 06:00:00 in ../database/Binance/15m/SOLUSDT.p\n",
      "ATOM/USDT 11 New candles 15m load since the : 2019-04-29 04:00:00 in ../database/Binance/15m/ATOMUSDT.p\n",
      "LUNA/USDT 999 New candles 15m load since the : 2020-09-06 00:00:00 in ../database/Binance/15m/LUNAUSDT.p\n",
      "BNB/USDT 11 New candles 15m load since the : 2017-11-06 03:45:00 in ../database/Binance/15m/BNBUSDT.p\n",
      "FTT/USDT 11 New candles 15m load since the : 2019-12-29 00:00:00 in ../database/Binance/15m/FTTUSDT.p\n",
      "DOT/USDT 11 New candles 15m load since the : 2020-08-18 23:00:00 in ../database/Binance/15m/DOTUSDT.p\n",
      "BTC/USDT 11 New candles 15m load since the : 2017-08-17 04:00:00 in ../database/Binance/15m/BTCUSDT.p\n",
      "ETH/USDT 11 New candles 15m load since the : 2017-08-17 04:00:00 in ../database/Binance/15m/ETHUSDT.p\n",
      "LTC/USDT 11 New candles 15m load since the : 2017-12-13 03:30:00 in ../database/Binance/15m/LTCUSDT.p\n",
      "XRP/USDT 11 New candles 15m load since the : 2018-05-20 00:00:00 in ../database/Binance/15m/XRPUSDT.p\n",
      "RUNE/USDT 11 New candles 15m load since the : 2020-09-06 00:00:00 in ../database/Binance/15m/RUNEUSDT.p\n",
      "LINK/USDT 10 New candles 15m load since the : 2019-01-27 00:00:00 in ../database/Binance/15m/LINKUSDT.p\n",
      "DOGE/USDT 10 New candles 15m load since the : 2019-07-14 00:00:00 in ../database/Binance/15m/DOGEUSDT.p\n",
      "BCH/USDT 10 New candles 15m load since the : 2019-12-01 00:00:00 in ../database/Binance/15m/BCHUSDT.p\n",
      "SUSHI/USDT 10 New candles 15m load since the : 2020-09-06 00:00:00 in ../database/Binance/15m/SUSHIUSDT.p\n",
      "SRM/USDT 10 New candles 15m load since the : 2020-08-11 13:30:00 in ../database/Binance/15m/SRMUSDT.p\n",
      "TRX/USDT 10 New candles 15m load since the : 2018-06-17 00:00:00 in ../database/Binance/15m/TRXUSDT.p\n",
      "AAVE/USDT 11 New candles 15m load since the : 2020-11-01 00:00:00 in ../database/Binance/15m/AAVEUSDT.p\n"
     ]
    }
   ],
   "source": [
    "# -- Data variable --\n",
    "pair_symbols = pair_json['ftxClassicPair']\n",
    "timeframes = ['15m']\n",
    "\n",
    "# -- Instance class --\n",
    "dataEngine = DataEngine(session=ccxt.binance())\n",
    "\n",
    "# -- Download data from data variable --\n",
    "dataEngine.update_data(pair_symbols, timeframes)"
   ]
  }
 ],
 "metadata": {
  "kernelspec": {
   "display_name": "Python 3.7.3 64-bit",
   "language": "python",
   "name": "python3"
  },
  "language_info": {
   "codemirror_mode": {
    "name": "ipython",
    "version": 3
   },
   "file_extension": ".py",
   "mimetype": "text/x-python",
   "name": "python",
   "nbconvert_exporter": "python",
   "pygments_lexer": "ipython3",
   "version": "3.7.3"
  },
  "orig_nbformat": 4,
  "vscode": {
   "interpreter": {
    "hash": "916dbcbb3f70747c44a77c7bcd40155683ae19c65e1c03b4aa3499c5328201f1"
   }
  }
 },
 "nbformat": 4,
 "nbformat_minor": 2
}
