{
 "cells": [
  {
   "cell_type": "code",
   "execution_count": 1,
   "metadata": {},
   "outputs": [],
   "source": [
    "import sys\n",
    "sys.path.append( '../../utilities' )\n",
    "from data_engine import DataEngine\n",
    "import pandas as pd\n",
    "import ccxt\n",
    "import json\n",
    "f = open('../../config/pair_list.json',)\n",
    "pair_json = json.load(f)\n",
    "f.close()"
   ]
  },
  {
   "cell_type": "markdown",
   "metadata": {},
   "source": [
    "<h1>Inspect data from api or database</h1>"
   ]
  },
  {
   "cell_type": "code",
   "execution_count": 2,
   "metadata": {},
   "outputs": [
    {
     "name": "stdout",
     "output_type": "stream",
     "text": [
      "../database/Binance/30m/BTCUSDT.p not exist or error\n"
     ]
    }
   ],
   "source": [
    "# -- Data variable --\n",
    "pair_symbol = 'BTC/USDT'\n",
    "timeframe = '30m'\n",
    "start_date = '2017-01-01T00:00:00'\n",
    "\n",
    "# -- Instance class --\n",
    "dataEngine = DataEngine(session=ccxt.binance())\n",
    "\n",
    "# -- Check from exchange API --\n",
    "# df =dataEngine.get_historical_from_api(pair_symbol, timeframe, start_date)\n",
    "\n",
    "# -- Check from local database --\n",
    "df =dataEngine.get_historical_from_db(pair_symbol, timeframe, start_date)\n",
    "\n",
    "df"
   ]
  },
  {
   "cell_type": "markdown",
   "metadata": {},
   "source": [
    "<h1>Download data from api to local database</h1>"
   ]
  },
  {
   "cell_type": "code",
   "execution_count": 5,
   "metadata": {},
   "outputs": [
    {
     "name": "stdout",
     "output_type": "stream",
     "text": [
      "-> downloding symbol AVAX/USDT for timeframe 30m\n",
      "AVAX/USDT 24687 Candles 30m load since the : 2020-09-22 06:30:00 to : 2022-02-19 10:30:00 in ../database/Binance/30m/AVAXUSDT.p\n",
      "-> downloding symbol SOL/USDT for timeframe 30m\n",
      "SOL/USDT 26704 Candles 30m load since the : 2020-08-11 06:00:00 to : 2022-02-19 10:30:00 in ../database/Binance/30m/SOLUSDT.p\n",
      "-> downloding symbol BNB/USDT for timeframe 30m\n",
      "BNB/USDT 74924 Candles 30m load since the : 2017-11-06 03:30:00 to : 2022-02-19 10:30:00 in ../database/Binance/30m/BNBUSDT.p\n",
      "-> downloding symbol FTT/USDT for timeframe 30m\n",
      "FTT/USDT 37961 Candles 30m load since the : 2019-12-20 03:00:00 to : 2022-02-19 10:30:00 in ../database/Binance/30m/FTTUSDT.p\n",
      "-> downloding symbol DOT/USDT for timeframe 30m\n",
      "DOT/USDT 26334 Candles 30m load since the : 2020-08-18 23:00:00 to : 2022-02-19 10:30:00 in ../database/Binance/30m/DOTUSDT.p\n",
      "-> downloding symbol BTC/USDT for timeframe 30m\n",
      "BTC/USDT 78797 Candles 30m load since the : 2017-08-17 04:00:00 to : 2022-02-19 10:30:00 in ../database/Binance/30m/BTCUSDT.p\n",
      "-> downloding symbol ETH/USDT for timeframe 30m\n",
      "ETH/USDT 78797 Candles 30m load since the : 2017-08-17 04:00:00 to : 2022-02-19 10:30:00 in ../database/Binance/30m/ETHUSDT.p\n",
      "-> downloding symbol LTC/USDT for timeframe 30m\n",
      "LTC/USDT 73148 Candles 30m load since the : 2017-12-13 03:30:00 to : 2022-02-19 10:30:00 in ../database/Binance/30m/LTCUSDT.p\n",
      "-> downloding symbol LINK/USDT for timeframe 30m\n",
      "LINK/USDT 54114 Candles 30m load since the : 2019-01-16 10:00:00 to : 2022-02-19 10:30:00 in ../database/Binance/30m/LINKUSDT.p\n",
      "-> downloding symbol AAVE/USDT for timeframe 30m\n",
      "AAVE/USDT 23590 Candles 30m load since the : 2020-10-15 03:00:00 to : 2022-02-19 10:30:00 in ../database/Binance/30m/AAVEUSDT.p\n",
      "-> downloding symbol UNI/USDT for timeframe 30m\n",
      "UNI/USDT 24934 Candles 30m load since the : 2020-09-17 03:00:00 to : 2022-02-19 10:30:00 in ../database/Binance/30m/UNIUSDT.p\n",
      "-> downloding symbol SUSHI/USDT for timeframe 30m\n",
      "SUSHI/USDT 25468 Candles 30m load since the : 2020-09-06 00:00:00 to : 2022-02-19 10:30:00 in ../database/Binance/30m/SUSHIUSDT.p\n",
      "-> downloding symbol DOGE/USDT for timeframe 30m\n",
      "DOGE/USDT 45983 Candles 30m load since the : 2019-07-05 12:00:00 to : 2022-02-19 10:30:00 in ../database/Binance/30m/DOGEUSDT.p\n",
      "-> downloding symbol XRP/USDT for timeframe 30m\n",
      "XRP/USDT 66395 Candles 30m load since the : 2018-05-04 08:00:00 to : 2022-02-19 10:30:00 in ../database/Binance/30m/XRPUSDT.p\n",
      "-> downloding symbol SRM/USDT for timeframe 30m\n",
      "SRM/USDT 26689 Candles 30m load since the : 2020-08-11 13:30:00 to : 2022-02-19 10:30:00 in ../database/Binance/30m/SRMUSDT.p\n",
      "-> downloding symbol BCH/USDT for timeframe 30m\n",
      "BCH/USDT 38879 Candles 30m load since the : 2019-12-01 00:00:00 to : 2022-02-19 10:30:00 in ../database/Binance/30m/BCHUSDT.p\n",
      "-> downloding symbol TRX/USDT for timeframe 30m\n",
      "TRX/USDT 64299 Candles 30m load since the : 2018-06-17 00:00:00 to : 2022-02-19 10:30:00 in ../database/Binance/30m/TRXUSDT.p\n"
     ]
    }
   ],
   "source": [
    "# -- Data variable --\n",
    "pair_symbols = pair_json['ftxClassicPair']\n",
    "timeframes = ['30m']\n",
    "start_date = '2017-01-01T00:00:00'\n",
    "\n",
    "# -- Instance class --\n",
    "dataEngine = DataEngine(session=ccxt.binance())\n",
    "\n",
    "# -- Download data from data variable --\n",
    "dataEngine.download_data(pair_symbols, timeframes, start_date)\n"
   ]
  },
  {
   "cell_type": "markdown",
   "metadata": {},
   "source": [
    "<h1>Update data from local database with new data from api</h1>"
   ]
  },
  {
   "cell_type": "code",
   "execution_count": 4,
   "metadata": {},
   "outputs": [
    {
     "name": "stdout",
     "output_type": "stream",
     "text": [
      "AVAX/USDT 0 New candles 1h load since the : 2020-09-22 06:00:00 in ../database/Binance/1h/AVAXUSDT.p\n",
      "SOL/USDT 0 New candles 1h load since the : 2020-08-11 06:00:00 in ../database/Binance/1h/SOLUSDT.p\n",
      "BNB/USDT 0 New candles 1h load since the : 2017-11-06 03:00:00 in ../database/Binance/1h/BNBUSDT.p\n",
      "FTT/USDT 0 New candles 1h load since the : 2019-12-20 03:00:00 in ../database/Binance/1h/FTTUSDT.p\n",
      "DOT/USDT 0 New candles 1h load since the : 2020-08-18 23:00:00 in ../database/Binance/1h/DOTUSDT.p\n",
      "BTC/USDT 0 New candles 1h load since the : 2017-08-17 04:00:00 in ../database/Binance/1h/BTCUSDT.p\n",
      "ETH/USDT 0 New candles 1h load since the : 2017-08-17 04:00:00 in ../database/Binance/1h/ETHUSDT.p\n",
      "LTC/USDT 0 New candles 1h load since the : 2017-12-13 03:00:00 in ../database/Binance/1h/LTCUSDT.p\n",
      "LINK/USDT 0 New candles 1h load since the : 2019-01-16 10:00:00 in ../database/Binance/1h/LINKUSDT.p\n",
      "AAVE/USDT 0 New candles 1h load since the : 2020-10-15 03:00:00 in ../database/Binance/1h/AAVEUSDT.p\n",
      "UNI/USDT 0 New candles 1h load since the : 2020-09-17 03:00:00 in ../database/Binance/1h/UNIUSDT.p\n",
      "SUSHI/USDT 0 New candles 1h load since the : 2020-09-01 11:00:00 in ../database/Binance/1h/SUSHIUSDT.p\n",
      "DOGE/USDT 0 New candles 1h load since the : 2019-07-05 12:00:00 in ../database/Binance/1h/DOGEUSDT.p\n",
      "XRP/USDT 0 New candles 1h load since the : 2018-05-04 08:00:00 in ../database/Binance/1h/XRPUSDT.p\n",
      "SRM/USDT 0 New candles 1h load since the : 2020-08-11 13:00:00 in ../database/Binance/1h/SRMUSDT.p\n",
      "BCH/USDT 0 New candles 1h load since the : 2019-11-28 10:00:00 in ../database/Binance/1h/BCHUSDT.p\n",
      "TRX/USDT 0 New candles 1h load since the : 2018-06-11 11:00:00 in ../database/Binance/1h/TRXUSDT.p\n"
     ]
    }
   ],
   "source": [
    "# -- Data variable --\n",
    "pair_symbols = pair_json['ftxClassicPair']\n",
    "timeframes = ['1h']\n",
    "\n",
    "# -- Instance class --\n",
    "dataEngine = DataEngine(session=ccxt.binance())\n",
    "\n",
    "# -- Download data from data variable --\n",
    "dataEngine.update_data(pair_symbols, timeframes)"
   ]
  }
 ],
 "metadata": {
  "interpreter": {
   "hash": "b99de858d01b8bcc47614726909171e040cc7bf90a13719c5d6ce860f919fb18"
  },
  "kernelspec": {
   "display_name": "Python 3.9.0 64-bit ('.venv': venv)",
   "language": "python",
   "name": "python3"
  },
  "language_info": {
   "codemirror_mode": {
    "name": "ipython",
    "version": 3
   },
   "file_extension": ".py",
   "mimetype": "text/x-python",
   "name": "python",
   "nbconvert_exporter": "python",
   "pygments_lexer": "ipython3",
   "version": "3.7.3"
  },
  "orig_nbformat": 4
 },
 "nbformat": 4,
 "nbformat_minor": 2
}
